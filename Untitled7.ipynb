{
  "nbformat": 4,
  "nbformat_minor": 0,
  "metadata": {
    "colab": {
      "provenance": []
    },
    "kernelspec": {
      "name": "python3",
      "display_name": "Python 3"
    },
    "language_info": {
      "name": "python"
    }
  },
  "cells": [
    {
      "cell_type": "code",
      "execution_count": 1,
      "metadata": {
        "id": "3PjQqSS3P3IF"
      },
      "outputs": [],
      "source": [
        "import pandas as pd\n",
        "from statsmodels.stats import weightstats as stests"
      ]
    },
    {
      "cell_type": "code",
      "source": [
        "df=pd.read_csv(\"/content/Real_Estate_Sales_2001-2020_GL.csv\")"
      ],
      "metadata": {
        "id": "gbsM2ZQKP7bM"
      },
      "execution_count": 5,
      "outputs": []
    },
    {
      "cell_type": "code",
      "source": [
        "df.head()"
      ],
      "metadata": {
        "colab": {
          "base_uri": "https://localhost:8080/",
          "height": 409
        },
        "id": "UimQ4knXQAMM",
        "outputId": "5049ebdf-304b-4cc0-aca7-0204436898ae"
      },
      "execution_count": 6,
      "outputs": [
        {
          "output_type": "execute_result",
          "data": {
            "text/plain": [
              "   Serial Number  List Year Date Recorded     Town                Address  \\\n",
              "0        2020348       2020    09/13/2021  Ansonia        230 WAKELEE AVE   \n",
              "1          20002       2020    10-02-2020  Ashford        390 TURNPIKE RD   \n",
              "2         200212       2020    03-09-2021     Avon       5 CHESTNUT DRIVE   \n",
              "3         200243       2020    04/13/2021     Avon  111 NORTHINGTON DRIVE   \n",
              "4         200377       2020    07-02-2021     Avon     70 FAR HILLS DRIVE   \n",
              "\n",
              "   Assessed Value  Sale Amount  Sales Ratio Property Type Residential Type  \\\n",
              "0        150500.0     325000.0       0.4630    Commercial              NaN   \n",
              "1        253000.0     430000.0       0.5883   Residential    Single Family   \n",
              "2        130400.0     179900.0       0.7248   Residential            Condo   \n",
              "3        619290.0     890000.0       0.6958   Residential    Single Family   \n",
              "4        862330.0    1447500.0       0.5957   Residential    Single Family   \n",
              "\n",
              "  Non Use Code Assessor Remarks OPM remarks Location  \n",
              "0          NaN              NaN         NaN      NaN  \n",
              "1          NaN              NaN         NaN      NaN  \n",
              "2          NaN              NaN         NaN      NaN  \n",
              "3          NaN              NaN         NaN      NaN  \n",
              "4          NaN              NaN         NaN      NaN  "
            ],
            "text/html": [
              "\n",
              "  <div id=\"df-45ad72d8-2c6f-4f67-be38-02216e756748\">\n",
              "    <div class=\"colab-df-container\">\n",
              "      <div>\n",
              "<style scoped>\n",
              "    .dataframe tbody tr th:only-of-type {\n",
              "        vertical-align: middle;\n",
              "    }\n",
              "\n",
              "    .dataframe tbody tr th {\n",
              "        vertical-align: top;\n",
              "    }\n",
              "\n",
              "    .dataframe thead th {\n",
              "        text-align: right;\n",
              "    }\n",
              "</style>\n",
              "<table border=\"1\" class=\"dataframe\">\n",
              "  <thead>\n",
              "    <tr style=\"text-align: right;\">\n",
              "      <th></th>\n",
              "      <th>Serial Number</th>\n",
              "      <th>List Year</th>\n",
              "      <th>Date Recorded</th>\n",
              "      <th>Town</th>\n",
              "      <th>Address</th>\n",
              "      <th>Assessed Value</th>\n",
              "      <th>Sale Amount</th>\n",
              "      <th>Sales Ratio</th>\n",
              "      <th>Property Type</th>\n",
              "      <th>Residential Type</th>\n",
              "      <th>Non Use Code</th>\n",
              "      <th>Assessor Remarks</th>\n",
              "      <th>OPM remarks</th>\n",
              "      <th>Location</th>\n",
              "    </tr>\n",
              "  </thead>\n",
              "  <tbody>\n",
              "    <tr>\n",
              "      <th>0</th>\n",
              "      <td>2020348</td>\n",
              "      <td>2020</td>\n",
              "      <td>09/13/2021</td>\n",
              "      <td>Ansonia</td>\n",
              "      <td>230 WAKELEE AVE</td>\n",
              "      <td>150500.0</td>\n",
              "      <td>325000.0</td>\n",
              "      <td>0.4630</td>\n",
              "      <td>Commercial</td>\n",
              "      <td>NaN</td>\n",
              "      <td>NaN</td>\n",
              "      <td>NaN</td>\n",
              "      <td>NaN</td>\n",
              "      <td>NaN</td>\n",
              "    </tr>\n",
              "    <tr>\n",
              "      <th>1</th>\n",
              "      <td>20002</td>\n",
              "      <td>2020</td>\n",
              "      <td>10-02-2020</td>\n",
              "      <td>Ashford</td>\n",
              "      <td>390 TURNPIKE RD</td>\n",
              "      <td>253000.0</td>\n",
              "      <td>430000.0</td>\n",
              "      <td>0.5883</td>\n",
              "      <td>Residential</td>\n",
              "      <td>Single Family</td>\n",
              "      <td>NaN</td>\n",
              "      <td>NaN</td>\n",
              "      <td>NaN</td>\n",
              "      <td>NaN</td>\n",
              "    </tr>\n",
              "    <tr>\n",
              "      <th>2</th>\n",
              "      <td>200212</td>\n",
              "      <td>2020</td>\n",
              "      <td>03-09-2021</td>\n",
              "      <td>Avon</td>\n",
              "      <td>5 CHESTNUT DRIVE</td>\n",
              "      <td>130400.0</td>\n",
              "      <td>179900.0</td>\n",
              "      <td>0.7248</td>\n",
              "      <td>Residential</td>\n",
              "      <td>Condo</td>\n",
              "      <td>NaN</td>\n",
              "      <td>NaN</td>\n",
              "      <td>NaN</td>\n",
              "      <td>NaN</td>\n",
              "    </tr>\n",
              "    <tr>\n",
              "      <th>3</th>\n",
              "      <td>200243</td>\n",
              "      <td>2020</td>\n",
              "      <td>04/13/2021</td>\n",
              "      <td>Avon</td>\n",
              "      <td>111 NORTHINGTON DRIVE</td>\n",
              "      <td>619290.0</td>\n",
              "      <td>890000.0</td>\n",
              "      <td>0.6958</td>\n",
              "      <td>Residential</td>\n",
              "      <td>Single Family</td>\n",
              "      <td>NaN</td>\n",
              "      <td>NaN</td>\n",
              "      <td>NaN</td>\n",
              "      <td>NaN</td>\n",
              "    </tr>\n",
              "    <tr>\n",
              "      <th>4</th>\n",
              "      <td>200377</td>\n",
              "      <td>2020</td>\n",
              "      <td>07-02-2021</td>\n",
              "      <td>Avon</td>\n",
              "      <td>70 FAR HILLS DRIVE</td>\n",
              "      <td>862330.0</td>\n",
              "      <td>1447500.0</td>\n",
              "      <td>0.5957</td>\n",
              "      <td>Residential</td>\n",
              "      <td>Single Family</td>\n",
              "      <td>NaN</td>\n",
              "      <td>NaN</td>\n",
              "      <td>NaN</td>\n",
              "      <td>NaN</td>\n",
              "    </tr>\n",
              "  </tbody>\n",
              "</table>\n",
              "</div>\n",
              "      <button class=\"colab-df-convert\" onclick=\"convertToInteractive('df-45ad72d8-2c6f-4f67-be38-02216e756748')\"\n",
              "              title=\"Convert this dataframe to an interactive table.\"\n",
              "              style=\"display:none;\">\n",
              "        \n",
              "  <svg xmlns=\"http://www.w3.org/2000/svg\" height=\"24px\"viewBox=\"0 0 24 24\"\n",
              "       width=\"24px\">\n",
              "    <path d=\"M0 0h24v24H0V0z\" fill=\"none\"/>\n",
              "    <path d=\"M18.56 5.44l.94 2.06.94-2.06 2.06-.94-2.06-.94-.94-2.06-.94 2.06-2.06.94zm-11 1L8.5 8.5l.94-2.06 2.06-.94-2.06-.94L8.5 2.5l-.94 2.06-2.06.94zm10 10l.94 2.06.94-2.06 2.06-.94-2.06-.94-.94-2.06-.94 2.06-2.06.94z\"/><path d=\"M17.41 7.96l-1.37-1.37c-.4-.4-.92-.59-1.43-.59-.52 0-1.04.2-1.43.59L10.3 9.45l-7.72 7.72c-.78.78-.78 2.05 0 2.83L4 21.41c.39.39.9.59 1.41.59.51 0 1.02-.2 1.41-.59l7.78-7.78 2.81-2.81c.8-.78.8-2.07 0-2.86zM5.41 20L4 18.59l7.72-7.72 1.47 1.35L5.41 20z\"/>\n",
              "  </svg>\n",
              "      </button>\n",
              "      \n",
              "  <style>\n",
              "    .colab-df-container {\n",
              "      display:flex;\n",
              "      flex-wrap:wrap;\n",
              "      gap: 12px;\n",
              "    }\n",
              "\n",
              "    .colab-df-convert {\n",
              "      background-color: #E8F0FE;\n",
              "      border: none;\n",
              "      border-radius: 50%;\n",
              "      cursor: pointer;\n",
              "      display: none;\n",
              "      fill: #1967D2;\n",
              "      height: 32px;\n",
              "      padding: 0 0 0 0;\n",
              "      width: 32px;\n",
              "    }\n",
              "\n",
              "    .colab-df-convert:hover {\n",
              "      background-color: #E2EBFA;\n",
              "      box-shadow: 0px 1px 2px rgba(60, 64, 67, 0.3), 0px 1px 3px 1px rgba(60, 64, 67, 0.15);\n",
              "      fill: #174EA6;\n",
              "    }\n",
              "\n",
              "    [theme=dark] .colab-df-convert {\n",
              "      background-color: #3B4455;\n",
              "      fill: #D2E3FC;\n",
              "    }\n",
              "\n",
              "    [theme=dark] .colab-df-convert:hover {\n",
              "      background-color: #434B5C;\n",
              "      box-shadow: 0px 1px 3px 1px rgba(0, 0, 0, 0.15);\n",
              "      filter: drop-shadow(0px 1px 2px rgba(0, 0, 0, 0.3));\n",
              "      fill: #FFFFFF;\n",
              "    }\n",
              "  </style>\n",
              "\n",
              "      <script>\n",
              "        const buttonEl =\n",
              "          document.querySelector('#df-45ad72d8-2c6f-4f67-be38-02216e756748 button.colab-df-convert');\n",
              "        buttonEl.style.display =\n",
              "          google.colab.kernel.accessAllowed ? 'block' : 'none';\n",
              "\n",
              "        async function convertToInteractive(key) {\n",
              "          const element = document.querySelector('#df-45ad72d8-2c6f-4f67-be38-02216e756748');\n",
              "          const dataTable =\n",
              "            await google.colab.kernel.invokeFunction('convertToInteractive',\n",
              "                                                     [key], {});\n",
              "          if (!dataTable) return;\n",
              "\n",
              "          const docLinkHtml = 'Like what you see? Visit the ' +\n",
              "            '<a target=\"_blank\" href=https://colab.research.google.com/notebooks/data_table.ipynb>data table notebook</a>'\n",
              "            + ' to learn more about interactive tables.';\n",
              "          element.innerHTML = '';\n",
              "          dataTable['output_type'] = 'display_data';\n",
              "          await google.colab.output.renderOutput(dataTable, element);\n",
              "          const docLink = document.createElement('div');\n",
              "          docLink.innerHTML = docLinkHtml;\n",
              "          element.appendChild(docLink);\n",
              "        }\n",
              "      </script>\n",
              "    </div>\n",
              "  </div>\n",
              "  "
            ]
          },
          "metadata": {},
          "execution_count": 6
        }
      ]
    },
    {
      "cell_type": "code",
      "source": [
        "df[['Assessed Value','Sale Amount']].describe()"
      ],
      "metadata": {
        "colab": {
          "base_uri": "https://localhost:8080/",
          "height": 300
        },
        "id": "KuoMnY5xQJBI",
        "outputId": "934fd082-4706-474c-ca00-44c22c5bfd93"
      },
      "execution_count": 7,
      "outputs": [
        {
          "output_type": "execute_result",
          "data": {
            "text/plain": [
              "       Assessed Value   Sale Amount\n",
              "count    1.221110e+05  1.221110e+05\n",
              "mean     2.401629e+05  4.415668e+05\n",
              "std      1.294022e+06  1.444372e+07\n",
              "min      0.000000e+00  0.000000e+00\n",
              "25%      7.480000e+04  1.355000e+05\n",
              "50%      1.204700e+05  2.300000e+05\n",
              "75%      2.038100e+05  3.750000e+05\n",
              "max      1.149242e+08  5.000000e+09"
            ],
            "text/html": [
              "\n",
              "  <div id=\"df-e749bdbc-1cd4-4796-aa6c-47ba9f567b76\">\n",
              "    <div class=\"colab-df-container\">\n",
              "      <div>\n",
              "<style scoped>\n",
              "    .dataframe tbody tr th:only-of-type {\n",
              "        vertical-align: middle;\n",
              "    }\n",
              "\n",
              "    .dataframe tbody tr th {\n",
              "        vertical-align: top;\n",
              "    }\n",
              "\n",
              "    .dataframe thead th {\n",
              "        text-align: right;\n",
              "    }\n",
              "</style>\n",
              "<table border=\"1\" class=\"dataframe\">\n",
              "  <thead>\n",
              "    <tr style=\"text-align: right;\">\n",
              "      <th></th>\n",
              "      <th>Assessed Value</th>\n",
              "      <th>Sale Amount</th>\n",
              "    </tr>\n",
              "  </thead>\n",
              "  <tbody>\n",
              "    <tr>\n",
              "      <th>count</th>\n",
              "      <td>1.221110e+05</td>\n",
              "      <td>1.221110e+05</td>\n",
              "    </tr>\n",
              "    <tr>\n",
              "      <th>mean</th>\n",
              "      <td>2.401629e+05</td>\n",
              "      <td>4.415668e+05</td>\n",
              "    </tr>\n",
              "    <tr>\n",
              "      <th>std</th>\n",
              "      <td>1.294022e+06</td>\n",
              "      <td>1.444372e+07</td>\n",
              "    </tr>\n",
              "    <tr>\n",
              "      <th>min</th>\n",
              "      <td>0.000000e+00</td>\n",
              "      <td>0.000000e+00</td>\n",
              "    </tr>\n",
              "    <tr>\n",
              "      <th>25%</th>\n",
              "      <td>7.480000e+04</td>\n",
              "      <td>1.355000e+05</td>\n",
              "    </tr>\n",
              "    <tr>\n",
              "      <th>50%</th>\n",
              "      <td>1.204700e+05</td>\n",
              "      <td>2.300000e+05</td>\n",
              "    </tr>\n",
              "    <tr>\n",
              "      <th>75%</th>\n",
              "      <td>2.038100e+05</td>\n",
              "      <td>3.750000e+05</td>\n",
              "    </tr>\n",
              "    <tr>\n",
              "      <th>max</th>\n",
              "      <td>1.149242e+08</td>\n",
              "      <td>5.000000e+09</td>\n",
              "    </tr>\n",
              "  </tbody>\n",
              "</table>\n",
              "</div>\n",
              "      <button class=\"colab-df-convert\" onclick=\"convertToInteractive('df-e749bdbc-1cd4-4796-aa6c-47ba9f567b76')\"\n",
              "              title=\"Convert this dataframe to an interactive table.\"\n",
              "              style=\"display:none;\">\n",
              "        \n",
              "  <svg xmlns=\"http://www.w3.org/2000/svg\" height=\"24px\"viewBox=\"0 0 24 24\"\n",
              "       width=\"24px\">\n",
              "    <path d=\"M0 0h24v24H0V0z\" fill=\"none\"/>\n",
              "    <path d=\"M18.56 5.44l.94 2.06.94-2.06 2.06-.94-2.06-.94-.94-2.06-.94 2.06-2.06.94zm-11 1L8.5 8.5l.94-2.06 2.06-.94-2.06-.94L8.5 2.5l-.94 2.06-2.06.94zm10 10l.94 2.06.94-2.06 2.06-.94-2.06-.94-.94-2.06-.94 2.06-2.06.94z\"/><path d=\"M17.41 7.96l-1.37-1.37c-.4-.4-.92-.59-1.43-.59-.52 0-1.04.2-1.43.59L10.3 9.45l-7.72 7.72c-.78.78-.78 2.05 0 2.83L4 21.41c.39.39.9.59 1.41.59.51 0 1.02-.2 1.41-.59l7.78-7.78 2.81-2.81c.8-.78.8-2.07 0-2.86zM5.41 20L4 18.59l7.72-7.72 1.47 1.35L5.41 20z\"/>\n",
              "  </svg>\n",
              "      </button>\n",
              "      \n",
              "  <style>\n",
              "    .colab-df-container {\n",
              "      display:flex;\n",
              "      flex-wrap:wrap;\n",
              "      gap: 12px;\n",
              "    }\n",
              "\n",
              "    .colab-df-convert {\n",
              "      background-color: #E8F0FE;\n",
              "      border: none;\n",
              "      border-radius: 50%;\n",
              "      cursor: pointer;\n",
              "      display: none;\n",
              "      fill: #1967D2;\n",
              "      height: 32px;\n",
              "      padding: 0 0 0 0;\n",
              "      width: 32px;\n",
              "    }\n",
              "\n",
              "    .colab-df-convert:hover {\n",
              "      background-color: #E2EBFA;\n",
              "      box-shadow: 0px 1px 2px rgba(60, 64, 67, 0.3), 0px 1px 3px 1px rgba(60, 64, 67, 0.15);\n",
              "      fill: #174EA6;\n",
              "    }\n",
              "\n",
              "    [theme=dark] .colab-df-convert {\n",
              "      background-color: #3B4455;\n",
              "      fill: #D2E3FC;\n",
              "    }\n",
              "\n",
              "    [theme=dark] .colab-df-convert:hover {\n",
              "      background-color: #434B5C;\n",
              "      box-shadow: 0px 1px 3px 1px rgba(0, 0, 0, 0.15);\n",
              "      filter: drop-shadow(0px 1px 2px rgba(0, 0, 0, 0.3));\n",
              "      fill: #FFFFFF;\n",
              "    }\n",
              "  </style>\n",
              "\n",
              "      <script>\n",
              "        const buttonEl =\n",
              "          document.querySelector('#df-e749bdbc-1cd4-4796-aa6c-47ba9f567b76 button.colab-df-convert');\n",
              "        buttonEl.style.display =\n",
              "          google.colab.kernel.accessAllowed ? 'block' : 'none';\n",
              "\n",
              "        async function convertToInteractive(key) {\n",
              "          const element = document.querySelector('#df-e749bdbc-1cd4-4796-aa6c-47ba9f567b76');\n",
              "          const dataTable =\n",
              "            await google.colab.kernel.invokeFunction('convertToInteractive',\n",
              "                                                     [key], {});\n",
              "          if (!dataTable) return;\n",
              "\n",
              "          const docLinkHtml = 'Like what you see? Visit the ' +\n",
              "            '<a target=\"_blank\" href=https://colab.research.google.com/notebooks/data_table.ipynb>data table notebook</a>'\n",
              "            + ' to learn more about interactive tables.';\n",
              "          element.innerHTML = '';\n",
              "          dataTable['output_type'] = 'display_data';\n",
              "          await google.colab.output.renderOutput(dataTable, element);\n",
              "          const docLink = document.createElement('div');\n",
              "          docLink.innerHTML = docLinkHtml;\n",
              "          element.appendChild(docLink);\n",
              "        }\n",
              "      </script>\n",
              "    </div>\n",
              "  </div>\n",
              "  "
            ]
          },
          "metadata": {},
          "execution_count": 7
        }
      ]
    },
    {
      "cell_type": "code",
      "source": [
        "#value=146 refers to the null hypothesis value for the variable\n",
        "ztest ,pvalue = stests.ztest(df['Sales Ratio'], x2=None, value=146)\n",
        "print(float(pvalue))\n",
        "print(ztest)"
      ],
      "metadata": {
        "colab": {
          "base_uri": "https://localhost:8080/"
        },
        "id": "wB5653TVQMRP",
        "outputId": "b2c09c13-931e-400d-e949-4cc0a6de3d6e"
      },
      "execution_count": 8,
      "outputs": [
        {
          "output_type": "stream",
          "name": "stdout",
          "text": [
            "nan\n",
            "nan\n"
          ]
        }
      ]
    },
    {
      "cell_type": "code",
      "source": [
        "if pvalue<0.05:\n",
        "    print(\"Null hypothesis rejected , Alternative hypothesis accepted\")\n",
        "else:\n",
        "    print(\"Null hypothesis accepted , Alternative hypothesis rejected\")"
      ],
      "metadata": {
        "colab": {
          "base_uri": "https://localhost:8080/"
        },
        "id": "fE3L8TZ6QQmh",
        "outputId": "6030ef1a-9458-4a76-ad25-cf5a918b6cd9"
      },
      "execution_count": 10,
      "outputs": [
        {
          "output_type": "stream",
          "name": "stdout",
          "text": [
            "Null hypothesis accepted , Alternative hypothesis rejected\n"
          ]
        }
      ]
    },
    {
      "cell_type": "code",
      "source": [
        "\n",
        "ztest ,pval1=stests.ztest(df['Assessed Value'],df['Sale Amount'],value=100)\n",
        "print(float(pval1))"
      ],
      "metadata": {
        "colab": {
          "base_uri": "https://localhost:8080/"
        },
        "id": "5AWOAIw1QUHb",
        "outputId": "8e1defa4-3b25-48e4-98ea-b225af86969e"
      },
      "execution_count": 13,
      "outputs": [
        {
          "output_type": "stream",
          "name": "stdout",
          "text": [
            "nan\n"
          ]
        }
      ]
    },
    {
      "cell_type": "code",
      "source": [
        "if pval1>0.05:\n",
        "    print(\"Null hypothesis rejected , Alternative hypothesis accepted\")\n",
        "else:\n",
        "    print(\"Null hypothesis accepted , Alternative hypothesis rejected\")"
      ],
      "metadata": {
        "colab": {
          "base_uri": "https://localhost:8080/"
        },
        "id": "MWOiK1ZYQdsZ",
        "outputId": "d9cde311-5893-4cb2-b01e-d22e47f13094"
      },
      "execution_count": 14,
      "outputs": [
        {
          "output_type": "stream",
          "name": "stdout",
          "text": [
            "Null hypothesis accepted , Alternative hypothesis rejected\n"
          ]
        }
      ]
    },
    {
      "cell_type": "code",
      "source": [],
      "metadata": {
        "id": "C5lSSv1sTA8M"
      },
      "execution_count": 14,
      "outputs": []
    }
  ]
}